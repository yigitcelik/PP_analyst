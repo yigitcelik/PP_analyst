{
 "cells": [
  {
   "cell_type": "code",
   "execution_count": 225,
   "metadata": {},
   "outputs": [],
   "source": [
    "import pandas as pd\n",
    "import numpy as np\n",
    "import networkx as nx\n",
    "import nxviz as nz\n",
    "import matplotlib.pyplot as plt\n",
    "import datetime as dt\n",
    "from datetime import timedelta\n",
    "import xlwings as xw"
   ]
  },
  {
   "cell_type": "code",
   "execution_count": 226,
   "metadata": {},
   "outputs": [],
   "source": [
    "data =  pd.read_excel('network_macro.xlsm')"
   ]
  },
  {
   "cell_type": "code",
   "execution_count": 227,
   "metadata": {},
   "outputs": [
    {
     "data": {
      "text/html": [
       "<div>\n",
       "<style scoped>\n",
       "    .dataframe tbody tr th:only-of-type {\n",
       "        vertical-align: middle;\n",
       "    }\n",
       "\n",
       "    .dataframe tbody tr th {\n",
       "        vertical-align: top;\n",
       "    }\n",
       "\n",
       "    .dataframe thead th {\n",
       "        text-align: right;\n",
       "    }\n",
       "</style>\n",
       "<table border=\"1\" class=\"dataframe\">\n",
       "  <thead>\n",
       "    <tr style=\"text-align: right;\">\n",
       "      <th></th>\n",
       "      <th>seviye</th>\n",
       "      <th>malzeme</th>\n",
       "      <th>miktar</th>\n",
       "      <th>baslangic tarihi</th>\n",
       "      <th>gelis tarihi</th>\n",
       "      <th>sure</th>\n",
       "      <th>next_assy</th>\n",
       "      <th>total_time</th>\n",
       "      <th>self_time</th>\n",
       "      <th>critical_path</th>\n",
       "      <th>calc_start_date</th>\n",
       "      <th>calc_finish_date</th>\n",
       "    </tr>\n",
       "  </thead>\n",
       "  <tbody>\n",
       "    <tr>\n",
       "      <th>0</th>\n",
       "      <td>1</td>\n",
       "      <td>A</td>\n",
       "      <td>1</td>\n",
       "      <td>2022-12-10</td>\n",
       "      <td>2022-12-15</td>\n",
       "      <td>10</td>\n",
       "      <td>-</td>\n",
       "      <td>610</td>\n",
       "      <td>10</td>\n",
       "      <td>yes</td>\n",
       "      <td>2024-05-03</td>\n",
       "      <td>2024-05-13</td>\n",
       "    </tr>\n",
       "    <tr>\n",
       "      <th>1</th>\n",
       "      <td>2</td>\n",
       "      <td>B</td>\n",
       "      <td>2</td>\n",
       "      <td>2022-11-15</td>\n",
       "      <td>2022-12-10</td>\n",
       "      <td>25</td>\n",
       "      <td>A</td>\n",
       "      <td>610</td>\n",
       "      <td>35</td>\n",
       "      <td>NaN</td>\n",
       "      <td>2024-04-08</td>\n",
       "      <td>2024-05-03</td>\n",
       "    </tr>\n",
       "    <tr>\n",
       "      <th>2</th>\n",
       "      <td>3</td>\n",
       "      <td>C</td>\n",
       "      <td>2</td>\n",
       "      <td>2022-10-20</td>\n",
       "      <td>2022-11-15</td>\n",
       "      <td>200</td>\n",
       "      <td>B</td>\n",
       "      <td>610</td>\n",
       "      <td>235</td>\n",
       "      <td>NaN</td>\n",
       "      <td>2023-09-21</td>\n",
       "      <td>2024-04-08</td>\n",
       "    </tr>\n",
       "    <tr>\n",
       "      <th>3</th>\n",
       "      <td>4</td>\n",
       "      <td>X</td>\n",
       "      <td>1</td>\n",
       "      <td>2022-09-10</td>\n",
       "      <td>2022-10-20</td>\n",
       "      <td>350</td>\n",
       "      <td>C</td>\n",
       "      <td>610</td>\n",
       "      <td>585</td>\n",
       "      <td>NaN</td>\n",
       "      <td>2022-10-06</td>\n",
       "      <td>2023-09-21</td>\n",
       "    </tr>\n",
       "    <tr>\n",
       "      <th>4</th>\n",
       "      <td>4</td>\n",
       "      <td>Y</td>\n",
       "      <td>2</td>\n",
       "      <td>2022-09-10</td>\n",
       "      <td>2022-10-05</td>\n",
       "      <td>120</td>\n",
       "      <td>C</td>\n",
       "      <td>610</td>\n",
       "      <td>355</td>\n",
       "      <td>NaN</td>\n",
       "      <td>2023-05-24</td>\n",
       "      <td>2023-09-21</td>\n",
       "    </tr>\n",
       "    <tr>\n",
       "      <th>5</th>\n",
       "      <td>3</td>\n",
       "      <td>D</td>\n",
       "      <td>1</td>\n",
       "      <td>2022-09-10</td>\n",
       "      <td>2022-10-30</td>\n",
       "      <td>280</td>\n",
       "      <td>B</td>\n",
       "      <td>610</td>\n",
       "      <td>315</td>\n",
       "      <td>NaN</td>\n",
       "      <td>2023-07-03</td>\n",
       "      <td>2024-04-08</td>\n",
       "    </tr>\n",
       "    <tr>\n",
       "      <th>6</th>\n",
       "      <td>3</td>\n",
       "      <td>E</td>\n",
       "      <td>1</td>\n",
       "      <td>2022-10-01</td>\n",
       "      <td>2022-10-15</td>\n",
       "      <td>350</td>\n",
       "      <td>B</td>\n",
       "      <td>610</td>\n",
       "      <td>385</td>\n",
       "      <td>NaN</td>\n",
       "      <td>2023-04-24</td>\n",
       "      <td>2024-04-08</td>\n",
       "    </tr>\n",
       "    <tr>\n",
       "      <th>7</th>\n",
       "      <td>2</td>\n",
       "      <td>F</td>\n",
       "      <td>3</td>\n",
       "      <td>2022-09-15</td>\n",
       "      <td>2022-10-02</td>\n",
       "      <td>60</td>\n",
       "      <td>A</td>\n",
       "      <td>610</td>\n",
       "      <td>610</td>\n",
       "      <td>yes</td>\n",
       "      <td>2022-09-11</td>\n",
       "      <td>2024-05-03</td>\n",
       "    </tr>\n",
       "  </tbody>\n",
       "</table>\n",
       "</div>"
      ],
      "text/plain": [
       "   seviye malzeme  miktar baslangic tarihi gelis tarihi  sure next_assy  \\\n",
       "0       1       A       1       2022-12-10   2022-12-15    10         -   \n",
       "1       2       B       2       2022-11-15   2022-12-10    25         A   \n",
       "2       3       C       2       2022-10-20   2022-11-15   200         B   \n",
       "3       4       X       1       2022-09-10   2022-10-20   350         C   \n",
       "4       4       Y       2       2022-09-10   2022-10-05   120         C   \n",
       "5       3       D       1       2022-09-10   2022-10-30   280         B   \n",
       "6       3       E       1       2022-10-01   2022-10-15   350         B   \n",
       "7       2       F       3       2022-09-15   2022-10-02    60         A   \n",
       "\n",
       "   total_time  self_time critical_path calc_start_date calc_finish_date  \n",
       "0         610         10           yes      2024-05-03       2024-05-13  \n",
       "1         610         35           NaN      2024-04-08       2024-05-03  \n",
       "2         610        235           NaN      2023-09-21       2024-04-08  \n",
       "3         610        585           NaN      2022-10-06       2023-09-21  \n",
       "4         610        355           NaN      2023-05-24       2023-09-21  \n",
       "5         610        315           NaN      2023-07-03       2024-04-08  \n",
       "6         610        385           NaN      2023-04-24       2024-04-08  \n",
       "7         610        610           yes      2022-09-11       2024-05-03  "
      ]
     },
     "execution_count": 227,
     "metadata": {},
     "output_type": "execute_result"
    }
   ],
   "source": [
    "data"
   ]
  },
  {
   "cell_type": "code",
   "execution_count": 228,
   "metadata": {},
   "outputs": [],
   "source": [
    "def find_upper_assy(x):\n",
    "   \n",
    "    assy=data.loc[(data['seviye']<x[0]) & (data.index<x.name),'malzeme'].tail(1).to_string(index=False)\n",
    "    if assy.isalpha():\n",
    "        return assy\n",
    "    else:\n",
    "        return '-'"
   ]
  },
  {
   "cell_type": "code",
   "execution_count": 229,
   "metadata": {},
   "outputs": [
    {
     "data": {
      "text/html": [
       "<div>\n",
       "<style scoped>\n",
       "    .dataframe tbody tr th:only-of-type {\n",
       "        vertical-align: middle;\n",
       "    }\n",
       "\n",
       "    .dataframe tbody tr th {\n",
       "        vertical-align: top;\n",
       "    }\n",
       "\n",
       "    .dataframe thead th {\n",
       "        text-align: right;\n",
       "    }\n",
       "</style>\n",
       "<table border=\"1\" class=\"dataframe\">\n",
       "  <thead>\n",
       "    <tr style=\"text-align: right;\">\n",
       "      <th></th>\n",
       "      <th>seviye</th>\n",
       "      <th>malzeme</th>\n",
       "      <th>miktar</th>\n",
       "      <th>baslangic tarihi</th>\n",
       "      <th>gelis tarihi</th>\n",
       "      <th>sure</th>\n",
       "      <th>next_assy</th>\n",
       "      <th>total_time</th>\n",
       "      <th>self_time</th>\n",
       "      <th>critical_path</th>\n",
       "      <th>calc_start_date</th>\n",
       "      <th>calc_finish_date</th>\n",
       "    </tr>\n",
       "  </thead>\n",
       "  <tbody>\n",
       "    <tr>\n",
       "      <th>0</th>\n",
       "      <td>1</td>\n",
       "      <td>A</td>\n",
       "      <td>1</td>\n",
       "      <td>2022-12-10</td>\n",
       "      <td>2022-12-15</td>\n",
       "      <td>10</td>\n",
       "      <td>-</td>\n",
       "      <td>610</td>\n",
       "      <td>10</td>\n",
       "      <td>yes</td>\n",
       "      <td>2024-05-03</td>\n",
       "      <td>2024-05-13</td>\n",
       "    </tr>\n",
       "    <tr>\n",
       "      <th>1</th>\n",
       "      <td>2</td>\n",
       "      <td>B</td>\n",
       "      <td>2</td>\n",
       "      <td>2022-11-15</td>\n",
       "      <td>2022-12-10</td>\n",
       "      <td>25</td>\n",
       "      <td>A</td>\n",
       "      <td>610</td>\n",
       "      <td>35</td>\n",
       "      <td>NaN</td>\n",
       "      <td>2024-04-08</td>\n",
       "      <td>2024-05-03</td>\n",
       "    </tr>\n",
       "    <tr>\n",
       "      <th>2</th>\n",
       "      <td>3</td>\n",
       "      <td>C</td>\n",
       "      <td>2</td>\n",
       "      <td>2022-10-20</td>\n",
       "      <td>2022-11-15</td>\n",
       "      <td>200</td>\n",
       "      <td>B</td>\n",
       "      <td>610</td>\n",
       "      <td>235</td>\n",
       "      <td>NaN</td>\n",
       "      <td>2023-09-21</td>\n",
       "      <td>2024-04-08</td>\n",
       "    </tr>\n",
       "    <tr>\n",
       "      <th>3</th>\n",
       "      <td>4</td>\n",
       "      <td>X</td>\n",
       "      <td>1</td>\n",
       "      <td>2022-09-10</td>\n",
       "      <td>2022-10-20</td>\n",
       "      <td>350</td>\n",
       "      <td>C</td>\n",
       "      <td>610</td>\n",
       "      <td>585</td>\n",
       "      <td>NaN</td>\n",
       "      <td>2022-10-06</td>\n",
       "      <td>2023-09-21</td>\n",
       "    </tr>\n",
       "    <tr>\n",
       "      <th>4</th>\n",
       "      <td>4</td>\n",
       "      <td>Y</td>\n",
       "      <td>2</td>\n",
       "      <td>2022-09-10</td>\n",
       "      <td>2022-10-05</td>\n",
       "      <td>120</td>\n",
       "      <td>C</td>\n",
       "      <td>610</td>\n",
       "      <td>355</td>\n",
       "      <td>NaN</td>\n",
       "      <td>2023-05-24</td>\n",
       "      <td>2023-09-21</td>\n",
       "    </tr>\n",
       "    <tr>\n",
       "      <th>5</th>\n",
       "      <td>3</td>\n",
       "      <td>D</td>\n",
       "      <td>1</td>\n",
       "      <td>2022-09-10</td>\n",
       "      <td>2022-10-30</td>\n",
       "      <td>280</td>\n",
       "      <td>B</td>\n",
       "      <td>610</td>\n",
       "      <td>315</td>\n",
       "      <td>NaN</td>\n",
       "      <td>2023-07-03</td>\n",
       "      <td>2024-04-08</td>\n",
       "    </tr>\n",
       "    <tr>\n",
       "      <th>6</th>\n",
       "      <td>3</td>\n",
       "      <td>E</td>\n",
       "      <td>1</td>\n",
       "      <td>2022-10-01</td>\n",
       "      <td>2022-10-15</td>\n",
       "      <td>350</td>\n",
       "      <td>B</td>\n",
       "      <td>610</td>\n",
       "      <td>385</td>\n",
       "      <td>NaN</td>\n",
       "      <td>2023-04-24</td>\n",
       "      <td>2024-04-08</td>\n",
       "    </tr>\n",
       "    <tr>\n",
       "      <th>7</th>\n",
       "      <td>2</td>\n",
       "      <td>F</td>\n",
       "      <td>3</td>\n",
       "      <td>2022-09-15</td>\n",
       "      <td>2022-10-02</td>\n",
       "      <td>60</td>\n",
       "      <td>A</td>\n",
       "      <td>610</td>\n",
       "      <td>610</td>\n",
       "      <td>yes</td>\n",
       "      <td>2022-09-11</td>\n",
       "      <td>2024-05-03</td>\n",
       "    </tr>\n",
       "  </tbody>\n",
       "</table>\n",
       "</div>"
      ],
      "text/plain": [
       "   seviye malzeme  miktar baslangic tarihi gelis tarihi  sure next_assy  \\\n",
       "0       1       A       1       2022-12-10   2022-12-15    10         -   \n",
       "1       2       B       2       2022-11-15   2022-12-10    25         A   \n",
       "2       3       C       2       2022-10-20   2022-11-15   200         B   \n",
       "3       4       X       1       2022-09-10   2022-10-20   350         C   \n",
       "4       4       Y       2       2022-09-10   2022-10-05   120         C   \n",
       "5       3       D       1       2022-09-10   2022-10-30   280         B   \n",
       "6       3       E       1       2022-10-01   2022-10-15   350         B   \n",
       "7       2       F       3       2022-09-15   2022-10-02    60         A   \n",
       "\n",
       "   total_time  self_time critical_path calc_start_date calc_finish_date  \n",
       "0         610         10           yes      2024-05-03       2024-05-13  \n",
       "1         610         35           NaN      2024-04-08       2024-05-03  \n",
       "2         610        235           NaN      2023-09-21       2024-04-08  \n",
       "3         610        585           NaN      2022-10-06       2023-09-21  \n",
       "4         610        355           NaN      2023-05-24       2023-09-21  \n",
       "5         610        315           NaN      2023-07-03       2024-04-08  \n",
       "6         610        385           NaN      2023-04-24       2024-04-08  \n",
       "7         610        610           yes      2022-09-11       2024-05-03  "
      ]
     },
     "execution_count": 229,
     "metadata": {},
     "output_type": "execute_result"
    }
   ],
   "source": [
    "data['next_assy'] = data.apply(find_upper_assy,axis=1)\n",
    "data"
   ]
  },
  {
   "cell_type": "code",
   "execution_count": 230,
   "metadata": {},
   "outputs": [
    {
     "data": {
      "text/plain": [
       "NodeView(('-', 'A', 'B', 'C'))"
      ]
     },
     "execution_count": 230,
     "metadata": {},
     "output_type": "execute_result"
    }
   ],
   "source": [
    "T = nx.DiGraph()  #create a directional graph\n",
    "activities = data[\"next_assy\"].unique().tolist()\n",
    "\n",
    "T.add_nodes_from(activities)   #adding nodes\n",
    "\n",
    "T.nodes() #view the nodes"
   ]
  },
  {
   "cell_type": "code",
   "execution_count": 231,
   "metadata": {},
   "outputs": [
    {
     "data": {
      "text/plain": [
       "OutEdgeView([('A', '-'), ('B', 'A'), ('C', 'B'), ('X', 'C'), ('Y', 'C'), ('D', 'B'), ('E', 'B'), ('F', 'A')])"
      ]
     },
     "execution_count": 231,
     "metadata": {},
     "output_type": "execute_result"
    }
   ],
   "source": [
    "\n",
    "\n",
    "\n",
    "activities_edges = [(a,b) for a,b in data[[\"malzeme\",\"next_assy\"]].to_numpy()]\n",
    "\n",
    "T.add_edges_from(activities_edges)   #add edges\n",
    "\n",
    "\n",
    "T.edges()"
   ]
  },
  {
   "cell_type": "code",
   "execution_count": 232,
   "metadata": {},
   "outputs": [
    {
     "data": {
      "text/plain": [
       "OutEdgeDataView([('A', '-', {'weight': 10}), ('B', 'A', {'weight': 25}), ('C', 'B', {'weight': 200}), ('X', 'C', {'weight': 350}), ('Y', 'C', {'weight': 120}), ('D', 'B', {'weight': 280}), ('E', 'B', {'weight': 350}), ('F', 'A', {'weight': 60})])"
      ]
     },
     "execution_count": 232,
     "metadata": {},
     "output_type": "execute_result"
    }
   ],
   "source": [
    "#add weights to the existing edges\n",
    "activities_weights = data[\"sure\"].to_list()\n",
    "i=0\n",
    "for s,d in T.edges():\n",
    "    T[s][d]['weight'] =activities_weights[i]\n",
    "    i+=1\n",
    "\n",
    "T.edges(data=True)"
   ]
  },
  {
   "cell_type": "code",
   "execution_count": 233,
   "metadata": {},
   "outputs": [
    {
     "data": {
      "image/png": "[encoded data removed]",
      "text/plain": [
       "<Figure size 432x288 with 1 Axes>"
      ]
     },
     "metadata": {},
     "output_type": "display_data"
    }
   ],
   "source": [
    "#Graph the network\n",
    "pos= nx.spring_layout(T)\n",
    "nx.draw_networkx_nodes(T,pos)\n",
    "nx.draw_networkx_edges(T,pos,arrows=True)\n",
    "nx.draw_networkx_edge_labels(T,pos,edge_labels=nx.get_edge_attributes(T,'weight'))\n",
    "nx.draw_networkx_labels(T,pos)\n",
    "plt.savefig('network.png',dpi=100)\n",
    "plt.show()"
   ]
  },
  {
   "cell_type": "code",
   "execution_count": 234,
   "metadata": {},
   "outputs": [
    {
     "name": "stdout",
     "output_type": "stream",
     "text": [
      "['X', 'C', 'B', 'A', '-']\n"
     ]
    },
    {
     "data": {
      "text/plain": [
       "585"
      ]
     },
     "execution_count": 234,
     "metadata": {},
     "output_type": "execute_result"
    }
   ],
   "source": [
    "print(nx.shortest_path(T,'X','-',weight='weight'))\n",
    "nx.shortest_path_length(T,'X','-',weight='weight')"
   ]
  },
  {
   "cell_type": "code",
   "execution_count": 235,
   "metadata": {},
   "outputs": [
    {
     "name": "stdout",
     "output_type": "stream",
     "text": [
      "['X', 'C', 'B', 'A', '-']\n"
     ]
    },
    {
     "data": {
      "text/plain": [
       "585"
      ]
     },
     "execution_count": 235,
     "metadata": {},
     "output_type": "execute_result"
    }
   ],
   "source": [
    "print(nx.dag_longest_path(T,weight='weight'))\n",
    "nx.dag_longest_path_length(T,weight='weight')"
   ]
  },
  {
   "cell_type": "code",
   "execution_count": 236,
   "metadata": {},
   "outputs": [],
   "source": [
    "def find_short(x):\n",
    "    return nx.shortest_path_length(T,x[1],'-',weight='weight')"
   ]
  },
  {
   "cell_type": "code",
   "execution_count": 237,
   "metadata": {},
   "outputs": [
    {
     "data": {
      "text/html": [
       "<div>\n",
       "<style scoped>\n",
       "    .dataframe tbody tr th:only-of-type {\n",
       "        vertical-align: middle;\n",
       "    }\n",
       "\n",
       "    .dataframe tbody tr th {\n",
       "        vertical-align: top;\n",
       "    }\n",
       "\n",
       "    .dataframe thead th {\n",
       "        text-align: right;\n",
       "    }\n",
       "</style>\n",
       "<table border=\"1\" class=\"dataframe\">\n",
       "  <thead>\n",
       "    <tr style=\"text-align: right;\">\n",
       "      <th></th>\n",
       "      <th>seviye</th>\n",
       "      <th>malzeme</th>\n",
       "      <th>miktar</th>\n",
       "      <th>baslangic tarihi</th>\n",
       "      <th>gelis tarihi</th>\n",
       "      <th>sure</th>\n",
       "      <th>next_assy</th>\n",
       "      <th>total_time</th>\n",
       "      <th>self_time</th>\n",
       "      <th>critical_path</th>\n",
       "      <th>calc_start_date</th>\n",
       "      <th>calc_finish_date</th>\n",
       "    </tr>\n",
       "  </thead>\n",
       "  <tbody>\n",
       "    <tr>\n",
       "      <th>0</th>\n",
       "      <td>1</td>\n",
       "      <td>A</td>\n",
       "      <td>1</td>\n",
       "      <td>2022-12-10</td>\n",
       "      <td>2022-12-15</td>\n",
       "      <td>10</td>\n",
       "      <td>-</td>\n",
       "      <td>585</td>\n",
       "      <td>10</td>\n",
       "      <td>yes</td>\n",
       "      <td>2024-05-03</td>\n",
       "      <td>2024-05-13</td>\n",
       "    </tr>\n",
       "    <tr>\n",
       "      <th>1</th>\n",
       "      <td>2</td>\n",
       "      <td>B</td>\n",
       "      <td>2</td>\n",
       "      <td>2022-11-15</td>\n",
       "      <td>2022-12-10</td>\n",
       "      <td>25</td>\n",
       "      <td>A</td>\n",
       "      <td>585</td>\n",
       "      <td>35</td>\n",
       "      <td>NaN</td>\n",
       "      <td>2024-04-08</td>\n",
       "      <td>2024-05-03</td>\n",
       "    </tr>\n",
       "    <tr>\n",
       "      <th>2</th>\n",
       "      <td>3</td>\n",
       "      <td>C</td>\n",
       "      <td>2</td>\n",
       "      <td>2022-10-20</td>\n",
       "      <td>2022-11-15</td>\n",
       "      <td>200</td>\n",
       "      <td>B</td>\n",
       "      <td>585</td>\n",
       "      <td>235</td>\n",
       "      <td>NaN</td>\n",
       "      <td>2023-09-21</td>\n",
       "      <td>2024-04-08</td>\n",
       "    </tr>\n",
       "    <tr>\n",
       "      <th>3</th>\n",
       "      <td>4</td>\n",
       "      <td>X</td>\n",
       "      <td>1</td>\n",
       "      <td>2022-09-10</td>\n",
       "      <td>2022-10-20</td>\n",
       "      <td>350</td>\n",
       "      <td>C</td>\n",
       "      <td>585</td>\n",
       "      <td>585</td>\n",
       "      <td>NaN</td>\n",
       "      <td>2022-10-06</td>\n",
       "      <td>2023-09-21</td>\n",
       "    </tr>\n",
       "    <tr>\n",
       "      <th>4</th>\n",
       "      <td>4</td>\n",
       "      <td>Y</td>\n",
       "      <td>2</td>\n",
       "      <td>2022-09-10</td>\n",
       "      <td>2022-10-05</td>\n",
       "      <td>120</td>\n",
       "      <td>C</td>\n",
       "      <td>585</td>\n",
       "      <td>355</td>\n",
       "      <td>NaN</td>\n",
       "      <td>2023-05-24</td>\n",
       "      <td>2023-09-21</td>\n",
       "    </tr>\n",
       "    <tr>\n",
       "      <th>5</th>\n",
       "      <td>3</td>\n",
       "      <td>D</td>\n",
       "      <td>1</td>\n",
       "      <td>2022-09-10</td>\n",
       "      <td>2022-10-30</td>\n",
       "      <td>280</td>\n",
       "      <td>B</td>\n",
       "      <td>585</td>\n",
       "      <td>315</td>\n",
       "      <td>NaN</td>\n",
       "      <td>2023-07-03</td>\n",
       "      <td>2024-04-08</td>\n",
       "    </tr>\n",
       "    <tr>\n",
       "      <th>6</th>\n",
       "      <td>3</td>\n",
       "      <td>E</td>\n",
       "      <td>1</td>\n",
       "      <td>2022-10-01</td>\n",
       "      <td>2022-10-15</td>\n",
       "      <td>350</td>\n",
       "      <td>B</td>\n",
       "      <td>585</td>\n",
       "      <td>385</td>\n",
       "      <td>NaN</td>\n",
       "      <td>2023-04-24</td>\n",
       "      <td>2024-04-08</td>\n",
       "    </tr>\n",
       "    <tr>\n",
       "      <th>7</th>\n",
       "      <td>2</td>\n",
       "      <td>F</td>\n",
       "      <td>3</td>\n",
       "      <td>2022-09-15</td>\n",
       "      <td>2022-10-02</td>\n",
       "      <td>60</td>\n",
       "      <td>A</td>\n",
       "      <td>585</td>\n",
       "      <td>70</td>\n",
       "      <td>yes</td>\n",
       "      <td>2022-09-11</td>\n",
       "      <td>2024-05-03</td>\n",
       "    </tr>\n",
       "  </tbody>\n",
       "</table>\n",
       "</div>"
      ],
      "text/plain": [
       "   seviye malzeme  miktar baslangic tarihi gelis tarihi  sure next_assy  \\\n",
       "0       1       A       1       2022-12-10   2022-12-15    10         -   \n",
       "1       2       B       2       2022-11-15   2022-12-10    25         A   \n",
       "2       3       C       2       2022-10-20   2022-11-15   200         B   \n",
       "3       4       X       1       2022-09-10   2022-10-20   350         C   \n",
       "4       4       Y       2       2022-09-10   2022-10-05   120         C   \n",
       "5       3       D       1       2022-09-10   2022-10-30   280         B   \n",
       "6       3       E       1       2022-10-01   2022-10-15   350         B   \n",
       "7       2       F       3       2022-09-15   2022-10-02    60         A   \n",
       "\n",
       "   total_time  self_time critical_path calc_start_date calc_finish_date  \n",
       "0         585         10           yes      2024-05-03       2024-05-13  \n",
       "1         585         35           NaN      2024-04-08       2024-05-03  \n",
       "2         585        235           NaN      2023-09-21       2024-04-08  \n",
       "3         585        585           NaN      2022-10-06       2023-09-21  \n",
       "4         585        355           NaN      2023-05-24       2023-09-21  \n",
       "5         585        315           NaN      2023-07-03       2024-04-08  \n",
       "6         585        385           NaN      2023-04-24       2024-04-08  \n",
       "7         585         70           yes      2022-09-11       2024-05-03  "
      ]
     },
     "execution_count": 237,
     "metadata": {},
     "output_type": "execute_result"
    }
   ],
   "source": [
    "data[\"total_time\"] = nx.dag_longest_path_length(T,weight='weight')\n",
    "data[\"self_time\"] = data.apply(find_short,axis=1)\n",
    "data"
   ]
  },
  {
   "cell_type": "code",
   "execution_count": 238,
   "metadata": {},
   "outputs": [
    {
     "data": {
      "text/plain": [
       "datetime.datetime(2024, 4, 18, 0, 0)"
      ]
     },
     "execution_count": 238,
     "metadata": {},
     "output_type": "execute_result"
    }
   ],
   "source": [
    "today = dt.datetime.today().strftime(\"%Y-%m-%d\")\n",
    "critic_index = data[data[\"self_time\"]==data['self_time'].max()].index.tolist()[0]\n",
    "critic_list = nx.shortest_path(T,data.iloc[critic_index][1],'-',weight='weight')\n",
    "data[\"critical_path\"]=''\n",
    "data.loc[(data.index <= critic_index) & data['malzeme'].isin(critic_list),'critical_path']='yes'\n",
    "#data = data.drop(['self_time'],axis=1)\n",
    "earliest_begin= max(data['baslangic tarihi'].min().strftime(\"%Y-%m-%d\"),today)\n",
    "earliest_begin = dt.datetime.strptime(earliest_begin,\"%Y-%m-%d\")\n",
    "calc_finish=  earliest_begin + timedelta(nx.dag_longest_path_length(T,weight='weight'))\n",
    "calc_finish"
   ]
  },
  {
   "cell_type": "code",
   "execution_count": 239,
   "metadata": {},
   "outputs": [],
   "source": [
    "def calc_start_date(x):\n",
    "    return calc_finish- timedelta(x[8])\n",
    "\n",
    "def calc_finish_date(x):\n",
    "    return x[10] + timedelta(x[5])"
   ]
  },
  {
   "cell_type": "code",
   "execution_count": 240,
   "metadata": {},
   "outputs": [],
   "source": [
    "data['calc_start_date'] = data.apply(calc_start_date,axis=1)\n",
    "data['calc_finish_date'] = data.apply(calc_finish_date,axis=1)"
   ]
  },
  {
   "cell_type": "code",
   "execution_count": 241,
   "metadata": {},
   "outputs": [
    {
     "data": {
      "text/html": [
       "<div>\n",
       "<style scoped>\n",
       "    .dataframe tbody tr th:only-of-type {\n",
       "        vertical-align: middle;\n",
       "    }\n",
       "\n",
       "    .dataframe tbody tr th {\n",
       "        vertical-align: top;\n",
       "    }\n",
       "\n",
       "    .dataframe thead th {\n",
       "        text-align: right;\n",
       "    }\n",
       "</style>\n",
       "<table border=\"1\" class=\"dataframe\">\n",
       "  <thead>\n",
       "    <tr style=\"text-align: right;\">\n",
       "      <th></th>\n",
       "      <th>seviye</th>\n",
       "      <th>malzeme</th>\n",
       "      <th>miktar</th>\n",
       "      <th>baslangic tarihi</th>\n",
       "      <th>gelis tarihi</th>\n",
       "      <th>sure</th>\n",
       "      <th>next_assy</th>\n",
       "      <th>total_time</th>\n",
       "      <th>self_time</th>\n",
       "      <th>critical_path</th>\n",
       "      <th>calc_start_date</th>\n",
       "      <th>calc_finish_date</th>\n",
       "    </tr>\n",
       "  </thead>\n",
       "  <tbody>\n",
       "    <tr>\n",
       "      <th>0</th>\n",
       "      <td>1</td>\n",
       "      <td>A</td>\n",
       "      <td>1</td>\n",
       "      <td>2022-12-10</td>\n",
       "      <td>2022-12-15</td>\n",
       "      <td>10</td>\n",
       "      <td>-</td>\n",
       "      <td>585</td>\n",
       "      <td>10</td>\n",
       "      <td>yes</td>\n",
       "      <td>2024-04-08</td>\n",
       "      <td>2024-04-18</td>\n",
       "    </tr>\n",
       "    <tr>\n",
       "      <th>1</th>\n",
       "      <td>2</td>\n",
       "      <td>B</td>\n",
       "      <td>2</td>\n",
       "      <td>2022-11-15</td>\n",
       "      <td>2022-12-10</td>\n",
       "      <td>25</td>\n",
       "      <td>A</td>\n",
       "      <td>585</td>\n",
       "      <td>35</td>\n",
       "      <td>yes</td>\n",
       "      <td>2024-03-14</td>\n",
       "      <td>2024-04-08</td>\n",
       "    </tr>\n",
       "    <tr>\n",
       "      <th>2</th>\n",
       "      <td>3</td>\n",
       "      <td>C</td>\n",
       "      <td>2</td>\n",
       "      <td>2022-10-20</td>\n",
       "      <td>2022-11-15</td>\n",
       "      <td>200</td>\n",
       "      <td>B</td>\n",
       "      <td>585</td>\n",
       "      <td>235</td>\n",
       "      <td>yes</td>\n",
       "      <td>2023-08-27</td>\n",
       "      <td>2024-03-14</td>\n",
       "    </tr>\n",
       "    <tr>\n",
       "      <th>3</th>\n",
       "      <td>4</td>\n",
       "      <td>X</td>\n",
       "      <td>1</td>\n",
       "      <td>2022-09-10</td>\n",
       "      <td>2022-10-20</td>\n",
       "      <td>350</td>\n",
       "      <td>C</td>\n",
       "      <td>585</td>\n",
       "      <td>585</td>\n",
       "      <td>yes</td>\n",
       "      <td>2022-09-11</td>\n",
       "      <td>2023-08-27</td>\n",
       "    </tr>\n",
       "    <tr>\n",
       "      <th>4</th>\n",
       "      <td>4</td>\n",
       "      <td>Y</td>\n",
       "      <td>2</td>\n",
       "      <td>2022-09-10</td>\n",
       "      <td>2022-10-05</td>\n",
       "      <td>120</td>\n",
       "      <td>C</td>\n",
       "      <td>585</td>\n",
       "      <td>355</td>\n",
       "      <td></td>\n",
       "      <td>2023-04-29</td>\n",
       "      <td>2023-08-27</td>\n",
       "    </tr>\n",
       "    <tr>\n",
       "      <th>5</th>\n",
       "      <td>3</td>\n",
       "      <td>D</td>\n",
       "      <td>1</td>\n",
       "      <td>2022-09-10</td>\n",
       "      <td>2022-10-30</td>\n",
       "      <td>280</td>\n",
       "      <td>B</td>\n",
       "      <td>585</td>\n",
       "      <td>315</td>\n",
       "      <td></td>\n",
       "      <td>2023-06-08</td>\n",
       "      <td>2024-03-14</td>\n",
       "    </tr>\n",
       "    <tr>\n",
       "      <th>6</th>\n",
       "      <td>3</td>\n",
       "      <td>E</td>\n",
       "      <td>1</td>\n",
       "      <td>2022-10-01</td>\n",
       "      <td>2022-10-15</td>\n",
       "      <td>350</td>\n",
       "      <td>B</td>\n",
       "      <td>585</td>\n",
       "      <td>385</td>\n",
       "      <td></td>\n",
       "      <td>2023-03-30</td>\n",
       "      <td>2024-03-14</td>\n",
       "    </tr>\n",
       "    <tr>\n",
       "      <th>7</th>\n",
       "      <td>2</td>\n",
       "      <td>F</td>\n",
       "      <td>3</td>\n",
       "      <td>2022-09-15</td>\n",
       "      <td>2022-10-02</td>\n",
       "      <td>60</td>\n",
       "      <td>A</td>\n",
       "      <td>585</td>\n",
       "      <td>70</td>\n",
       "      <td></td>\n",
       "      <td>2024-02-08</td>\n",
       "      <td>2024-04-08</td>\n",
       "    </tr>\n",
       "  </tbody>\n",
       "</table>\n",
       "</div>"
      ],
      "text/plain": [
       "   seviye malzeme  miktar baslangic tarihi gelis tarihi  sure next_assy  \\\n",
       "0       1       A       1       2022-12-10   2022-12-15    10         -   \n",
       "1       2       B       2       2022-11-15   2022-12-10    25         A   \n",
       "2       3       C       2       2022-10-20   2022-11-15   200         B   \n",
       "3       4       X       1       2022-09-10   2022-10-20   350         C   \n",
       "4       4       Y       2       2022-09-10   2022-10-05   120         C   \n",
       "5       3       D       1       2022-09-10   2022-10-30   280         B   \n",
       "6       3       E       1       2022-10-01   2022-10-15   350         B   \n",
       "7       2       F       3       2022-09-15   2022-10-02    60         A   \n",
       "\n",
       "   total_time  self_time critical_path calc_start_date calc_finish_date  \n",
       "0         585         10           yes      2024-04-08       2024-04-18  \n",
       "1         585         35           yes      2024-03-14       2024-04-08  \n",
       "2         585        235           yes      2023-08-27       2024-03-14  \n",
       "3         585        585           yes      2022-09-11       2023-08-27  \n",
       "4         585        355                    2023-04-29       2023-08-27  \n",
       "5         585        315                    2023-06-08       2024-03-14  \n",
       "6         585        385                    2023-03-30       2024-03-14  \n",
       "7         585         70                    2024-02-08       2024-04-08  "
      ]
     },
     "execution_count": 241,
     "metadata": {},
     "output_type": "execute_result"
    }
   ],
   "source": [
    "data"
   ]
  },
  {
   "cell_type": "code",
   "execution_count": 242,
   "metadata": {},
   "outputs": [
    {
     "data": {
      "text/plain": [
       "[0, 1, 2, 3]"
      ]
     },
     "execution_count": 242,
     "metadata": {},
     "output_type": "execute_result"
    }
   ],
   "source": [
    "data[data['critical_path']=='yes'].index.to_list()"
   ]
  },
  {
   "cell_type": "code",
   "execution_count": 255,
   "metadata": {},
   "outputs": [],
   "source": [
    "wb = xw.Book(\"network_macro.xlsm\")\n",
    "ws = wb.sheets[\"Sheet1\"]\n",
    "\n",
    "ws['A1'].options(pd.DataFrame,header=1,index=False,expand='table').value = data\n",
    "\n",
    "ws.autofit(axis=\"columns\")\n",
    "\n",
    "yes_list = data[data['critical_path']=='yes'].index.to_list()  #filter the critical path value 'yes' and find its indexes\n",
    "\n",
    "rownum= xw.Range('B1').current_region.last_cell.row  #find the lastest row of the B column\n",
    "\n",
    "xw.Range(f'B1:B{rownum}').color = None #remove the color of B column\n",
    "\n",
    "for cell in yes_list:\n",
    "    xw.Range(f\"B{int(cell)+2}\").color = '#D10000'\n",
    "\n",
    "ws.used_range.api.AutoFilter(Field:=1)\n",
    "\n",
    "wb.save('network_macro.xlsm')"
   ]
  },
  {
   "cell_type": "code",
   "execution_count": 244,
   "metadata": {},
   "outputs": [
    {
     "data": {
      "application/vnd.plotly.v1+json": {
       "config": {
        "plotlyServerURL": "https://plot.ly"
       },
       "data": [
        {
         "alignmentgroup": "True",
         "base": [
          "2024-04-08T00:00:00",
          "2024-03-14T00:00:00",
          "2023-08-27T00:00:00",
          "2022-09-11T00:00:00"
         ],
         "hovertemplate": "critical_path=yes<br>calc_start_date=%{base}<br>calc_finish_date=%{x}<br>malzeme=%{y}<extra></extra>",
         "legendgroup": "yes",
         "marker": {
          "color": "#D10000",
          "pattern": {
           "shape": ""
          }
         },
         "name": "yes",
         "offsetgroup": "yes",
         "orientation": "h",
         "showlegend": true,
         "textposition": "auto",
         "type": "bar",
         "x": [
          864000000,
          2160000000,
          17280000000,
          30240000000
         ],
         "xaxis": "x",
         "y": [
          "A",
          "B",
          "C",
          "X"
         ],
         "yaxis": "y"
        },
        {
         "alignmentgroup": "True",
         "base": [
          "2023-04-29T00:00:00",
          "2023-06-08T00:00:00",
          "2023-03-30T00:00:00",
          "2024-02-08T00:00:00"
         ],
         "hovertemplate": "critical_path=<br>calc_start_date=%{base}<br>calc_finish_date=%{x}<br>malzeme=%{y}<extra></extra>",
         "legendgroup": "",
         "marker": {
          "color": "#45B08C",
          "pattern": {
           "shape": ""
          }
         },
         "name": "",
         "offsetgroup": "",
         "orientation": "h",
         "showlegend": false,
         "textposition": "auto",
         "type": "bar",
         "x": [
          10368000000,
          24192000000,
          30240000000,
          5184000000
         ],
         "xaxis": "x",
         "y": [
          "Y",
          "D",
          "E",
          "F"
         ],
         "yaxis": "y"
        }
       ],
       "layout": {
        "barmode": "overlay",
        "legend": {
         "title": {
          "text": "critical_path"
         },
         "tracegroupgap": 0
        },
        "margin": {
         "t": 60
        },
        "template": {
         "data": {
          "bar": [
           {
            "error_x": {
             "color": "#2a3f5f"
            },
            "error_y": {
             "color": "#2a3f5f"
            },
            "marker": {
             "line": {
              "color": "#E5ECF6",
              "width": 0.5
             },
             "pattern": {
              "fillmode": "overlay",
              "size": 10,
              "solidity": 0.2
             }
            },
            "type": "bar"
           }
          ],
          "barpolar": [
           {
            "marker": {
             "line": {
              "color": "#E5ECF6",
              "width": 0.5
             },
             "pattern": {
              "fillmode": "overlay",
              "size": 10,
              "solidity": 0.2
             }
            },
            "type": "barpolar"
           }
          ],
          "carpet": [
           {
            "aaxis": {
             "endlinecolor": "#2a3f5f",
             "gridcolor": "white",
             "linecolor": "white",
             "minorgridcolor": "white",
             "startlinecolor": "#2a3f5f"
            },
            "baxis": {
             "endlinecolor": "#2a3f5f",
             "gridcolor": "white",
             "linecolor": "white",
             "minorgridcolor": "white",
             "startlinecolor": "#2a3f5f"
            },
            "type": "carpet"
           }
          ],
          "choropleth": [
           {
            "colorbar": {
             "outlinewidth": 0,
             "ticks": ""
            },
            "type": "choropleth"
           }
          ],
          "contour": [
           {
            "colorbar": {
             "outlinewidth": 0,
             "ticks": ""
            },
            "colorscale": [
             [
              0,
              "#0d0887"
             ],
             [
              0.1111111111111111,
              "#46039f"
             ],
             [
              0.2222222222222222,
              "#7201a8"
             ],
             [
              0.3333333333333333,
              "#9c179e"
             ],
             [
              0.4444444444444444,
              "#bd3786"
             ],
             [
              0.5555555555555556,
              "#d8576b"
             ],
             [
              0.6666666666666666,
              "#ed7953"
             ],
             [
              0.7777777777777778,
              "#fb9f3a"
             ],
             [
              0.8888888888888888,
              "#fdca26"
             ],
             [
              1,
              "#f0f921"
             ]
            ],
            "type": "contour"
           }
          ],
          "contourcarpet": [
           {
            "colorbar": {
             "outlinewidth": 0,
             "ticks": ""
            },
            "type": "contourcarpet"
           }
          ],
          "heatmap": [
           {
            "colorbar": {
             "outlinewidth": 0,
             "ticks": ""
            },
            "colorscale": [
             [
              0,
              "#0d0887"
             ],
             [
              0.1111111111111111,
              "#46039f"
             ],
             [
              0.2222222222222222,
              "#7201a8"
             ],
             [
              0.3333333333333333,
              "#9c179e"
             ],
             [
              0.4444444444444444,
              "#bd3786"
             ],
             [
              0.5555555555555556,
              "#d8576b"
             ],
             [
              0.6666666666666666,
              "#ed7953"
             ],
             [
              0.7777777777777778,
              "#fb9f3a"
             ],
             [
              0.8888888888888888,
              "#fdca26"
             ],
             [
              1,
              "#f0f921"
             ]
            ],
            "type": "heatmap"
           }
          ],
          "heatmapgl": [
           {
            "colorbar": {
             "outlinewidth": 0,
             "ticks": ""
            },
            "colorscale": [
             [
              0,
              "#0d0887"
             ],
             [
              0.1111111111111111,
              "#46039f"
             ],
             [
              0.2222222222222222,
              "#7201a8"
             ],
             [
              0.3333333333333333,
              "#9c179e"
             ],
             [
              0.4444444444444444,
              "#bd3786"
             ],
             [
              0.5555555555555556,
              "#d8576b"
             ],
             [
              0.6666666666666666,
              "#ed7953"
             ],
             [
              0.7777777777777778,
              "#fb9f3a"
             ],
             [
              0.8888888888888888,
              "#fdca26"
             ],
             [
              1,
              "#f0f921"
             ]
            ],
            "type": "heatmapgl"
           }
          ],
          "histogram": [
           {
            "marker": {
             "pattern": {
              "fillmode": "overlay",
              "size": 10,
              "solidity": 0.2
             }
            },
            "type": "histogram"
           }
          ],
          "histogram2d": [
           {
            "colorbar": {
             "outlinewidth": 0,
             "ticks": ""
            },
            "colorscale": [
             [
              0,
              "#0d0887"
             ],
             [
              0.1111111111111111,
              "#46039f"
             ],
             [
              0.2222222222222222,
              "#7201a8"
             ],
             [
              0.3333333333333333,
              "#9c179e"
             ],
             [
              0.4444444444444444,
              "#bd3786"
             ],
             [
              0.5555555555555556,
              "#d8576b"
             ],
             [
              0.6666666666666666,
              "#ed7953"
             ],
             [
              0.7777777777777778,
              "#fb9f3a"
             ],
             [
              0.8888888888888888,
              "#fdca26"
             ],
             [
              1,
              "#f0f921"
             ]
            ],
            "type": "histogram2d"
           }
          ],
          "histogram2dcontour": [
           {
            "colorbar": {
             "outlinewidth": 0,
             "ticks": ""
            },
            "colorscale": [
             [
              0,
              "#0d0887"
             ],
             [
              0.1111111111111111,
              "#46039f"
             ],
             [
              0.2222222222222222,
              "#7201a8"
             ],
             [
              0.3333333333333333,
              "#9c179e"
             ],
             [
              0.4444444444444444,
              "#bd3786"
             ],
             [
              0.5555555555555556,
              "#d8576b"
             ],
             [
              0.6666666666666666,
              "#ed7953"
             ],
             [
              0.7777777777777778,
              "#fb9f3a"
             ],
             [
              0.8888888888888888,
              "#fdca26"
             ],
             [
              1,
              "#f0f921"
             ]
            ],
            "type": "histogram2dcontour"
           }
          ],
          "mesh3d": [
           {
            "colorbar": {
             "outlinewidth": 0,
             "ticks": ""
            },
            "type": "mesh3d"
           }
          ],
          "parcoords": [
           {
            "line": {
             "colorbar": {
              "outlinewidth": 0,
              "ticks": ""
             }
            },
            "type": "parcoords"
           }
          ],
          "pie": [
           {
            "automargin": true,
            "type": "pie"
           }
          ],
          "scatter": [
           {
            "fillpattern": {
             "fillmode": "overlay",
             "size": 10,
             "solidity": 0.2
            },
            "type": "scatter"
           }
          ],
          "scatter3d": [
           {
            "line": {
             "colorbar": {
              "outlinewidth": 0,
              "ticks": ""
             }
            },
            "marker": {
             "colorbar": {
              "outlinewidth": 0,
              "ticks": ""
             }
            },
            "type": "scatter3d"
           }
          ],
          "scattercarpet": [
           {
            "marker": {
             "colorbar": {
              "outlinewidth": 0,
              "ticks": ""
             }
            },
            "type": "scattercarpet"
           }
          ],
          "scattergeo": [
           {
            "marker": {
             "colorbar": {
              "outlinewidth": 0,
              "ticks": ""
             }
            },
            "type": "scattergeo"
           }
          ],
          "scattergl": [
           {
            "marker": {
             "colorbar": {
              "outlinewidth": 0,
              "ticks": ""
             }
            },
            "type": "scattergl"
           }
          ],
          "scattermapbox": [
           {
            "marker": {
             "colorbar": {
              "outlinewidth": 0,
              "ticks": ""
             }
            },
            "type": "scattermapbox"
           }
          ],
          "scatterpolar": [
           {
            "marker": {
             "colorbar": {
              "outlinewidth": 0,
              "ticks": ""
             }
            },
            "type": "scatterpolar"
           }
          ],
          "scatterpolargl": [
           {
            "marker": {
             "colorbar": {
              "outlinewidth": 0,
              "ticks": ""
             }
            },
            "type": "scatterpolargl"
           }
          ],
          "scatterternary": [
           {
            "marker": {
             "colorbar": {
              "outlinewidth": 0,
              "ticks": ""
             }
            },
            "type": "scatterternary"
           }
          ],
          "surface": [
           {
            "colorbar": {
             "outlinewidth": 0,
             "ticks": ""
            },
            "colorscale": [
             [
              0,
              "#0d0887"
             ],
             [
              0.1111111111111111,
              "#46039f"
             ],
             [
              0.2222222222222222,
              "#7201a8"
             ],
             [
              0.3333333333333333,
              "#9c179e"
             ],
             [
              0.4444444444444444,
              "#bd3786"
             ],
             [
              0.5555555555555556,
              "#d8576b"
             ],
             [
              0.6666666666666666,
              "#ed7953"
             ],
             [
              0.7777777777777778,
              "#fb9f3a"
             ],
             [
              0.8888888888888888,
              "#fdca26"
             ],
             [
              1,
              "#f0f921"
             ]
            ],
            "type": "surface"
           }
          ],
          "table": [
           {
            "cells": {
             "fill": {
              "color": "#EBF0F8"
             },
             "line": {
              "color": "white"
             }
            },
            "header": {
             "fill": {
              "color": "#C8D4E3"
             },
             "line": {
              "color": "white"
             }
            },
            "type": "table"
           }
          ]
         },
         "layout": {
          "annotationdefaults": {
           "arrowcolor": "#2a3f5f",
           "arrowhead": 0,
           "arrowwidth": 1
          },
          "autotypenumbers": "strict",
          "coloraxis": {
           "colorbar": {
            "outlinewidth": 0,
            "ticks": ""
           }
          },
          "colorscale": {
           "diverging": [
            [
             0,
             "#8e0152"
            ],
            [
             0.1,
             "#c51b7d"
            ],
            [
             0.2,
             "#de77ae"
            ],
            [
             0.3,
             "#f1b6da"
            ],
            [
             0.4,
             "#fde0ef"
            ],
            [
             0.5,
             "#f7f7f7"
            ],
            [
             0.6,
             "#e6f5d0"
            ],
            [
             0.7,
             "#b8e186"
            ],
            [
             0.8,
             "#7fbc41"
            ],
            [
             0.9,
             "#4d9221"
            ],
            [
             1,
             "#276419"
            ]
           ],
           "sequential": [
            [
             0,
             "#0d0887"
            ],
            [
             0.1111111111111111,
             "#46039f"
            ],
            [
             0.2222222222222222,
             "#7201a8"
            ],
            [
             0.3333333333333333,
             "#9c179e"
            ],
            [
             0.4444444444444444,
             "#bd3786"
            ],
            [
             0.5555555555555556,
             "#d8576b"
            ],
            [
             0.6666666666666666,
             "#ed7953"
            ],
            [
             0.7777777777777778,
             "#fb9f3a"
            ],
            [
             0.8888888888888888,
             "#fdca26"
            ],
            [
             1,
             "#f0f921"
            ]
           ],
           "sequentialminus": [
            [
             0,
             "#0d0887"
            ],
            [
             0.1111111111111111,
             "#46039f"
            ],
            [
             0.2222222222222222,
             "#7201a8"
            ],
            [
             0.3333333333333333,
             "#9c179e"
            ],
            [
             0.4444444444444444,
             "#bd3786"
            ],
            [
             0.5555555555555556,
             "#d8576b"
            ],
            [
             0.6666666666666666,
             "#ed7953"
            ],
            [
             0.7777777777777778,
             "#fb9f3a"
            ],
            [
             0.8888888888888888,
             "#fdca26"
            ],
            [
             1,
             "#f0f921"
            ]
           ]
          },
          "colorway": [
           "#636efa",
           "#EF553B",
           "#00cc96",
           "#ab63fa",
           "#FFA15A",
           "#19d3f3",
           "#FF6692",
           "#B6E880",
           "#FF97FF",
           "#FECB52"
          ],
          "font": {
           "color": "#2a3f5f"
          },
          "geo": {
           "bgcolor": "white",
           "lakecolor": "white",
           "landcolor": "#E5ECF6",
           "showlakes": true,
           "showland": true,
           "subunitcolor": "white"
          },
          "hoverlabel": {
           "align": "left"
          },
          "hovermode": "closest",
          "mapbox": {
           "style": "light"
          },
          "paper_bgcolor": "white",
          "plot_bgcolor": "#E5ECF6",
          "polar": {
           "angularaxis": {
            "gridcolor": "white",
            "linecolor": "white",
            "ticks": ""
           },
           "bgcolor": "#E5ECF6",
           "radialaxis": {
            "gridcolor": "white",
            "linecolor": "white",
            "ticks": ""
           }
          },
          "scene": {
           "xaxis": {
            "backgroundcolor": "#E5ECF6",
            "gridcolor": "white",
            "gridwidth": 2,
            "linecolor": "white",
            "showbackground": true,
            "ticks": "",
            "zerolinecolor": "white"
           },
           "yaxis": {
            "backgroundcolor": "#E5ECF6",
            "gridcolor": "white",
            "gridwidth": 2,
            "linecolor": "white",
            "showbackground": true,
            "ticks": "",
            "zerolinecolor": "white"
           },
           "zaxis": {
            "backgroundcolor": "#E5ECF6",
            "gridcolor": "white",
            "gridwidth": 2,
            "linecolor": "white",
            "showbackground": true,
            "ticks": "",
            "zerolinecolor": "white"
           }
          },
          "shapedefaults": {
           "line": {
            "color": "#2a3f5f"
           }
          },
          "ternary": {
           "aaxis": {
            "gridcolor": "white",
            "linecolor": "white",
            "ticks": ""
           },
           "baxis": {
            "gridcolor": "white",
            "linecolor": "white",
            "ticks": ""
           },
           "bgcolor": "#E5ECF6",
           "caxis": {
            "gridcolor": "white",
            "linecolor": "white",
            "ticks": ""
           }
          },
          "title": {
           "x": 0.05
          },
          "xaxis": {
           "automargin": true,
           "gridcolor": "white",
           "linecolor": "white",
           "ticks": "",
           "title": {
            "standoff": 15
           },
           "zerolinecolor": "white",
           "zerolinewidth": 2
          },
          "yaxis": {
           "automargin": true,
           "gridcolor": "white",
           "linecolor": "white",
           "ticks": "",
           "title": {
            "standoff": 15
           },
           "zerolinecolor": "white",
           "zerolinewidth": 2
          }
         }
        },
        "xaxis": {
         "anchor": "y",
         "domain": [
          0,
          1
         ],
         "type": "date"
        },
        "yaxis": {
         "anchor": "x",
         "autorange": "reversed",
         "domain": [
          0,
          1
         ],
         "title": {
          "text": "malzeme"
         }
        }
       }
      }
     },
     "metadata": {},
     "output_type": "display_data"
    }
   ],
   "source": [
    "import plotly.express as px\n",
    "\n",
    "colors= ['#D10000', '#45B08C']\n",
    "fig = px.timeline(data, x_start=\"calc_start_date\", x_end=\"calc_finish_date\", y=\"malzeme\",color='critical_path',color_discrete_sequence=colors)\n",
    "fig.update_yaxes(autorange=\"reversed\") # otherwise tasks are listed from the bottom up\n",
    "fig.update_layout()\n",
    "fig.write_html(\"gant.html\")\n",
    "fig.show()\n"
   ]
  },
  {
   "cell_type": "code",
   "execution_count": null,
   "metadata": {},
   "outputs": [],
   "source": []
  }
 ],
 "metadata": {
  "kernelspec": {
   "display_name": "Python 3.8.12 ('m1chip')",
   "language": "python",
   "name": "python3"
  },
  "language_info": {
   "codemirror_mode": {
    "name": "ipython",
    "version": 3
   },
   "file_extension": ".py",
   "mimetype": "text/x-python",
   "name": "python",
   "nbconvert_exporter": "python",
   "pygments_lexer": "ipython3",
   "version": "3.8.12"
  },
  "orig_nbformat": 4,
  "vscode": {
   "interpreter": {
    "hash": "0a5e53e6f666b05620c9944ca293667e4b7c0c70b0eb0a167fc4df8c95ad2d33"
   }
  }
 },
 "nbformat": 4,
 "nbformat_minor": 2
}
